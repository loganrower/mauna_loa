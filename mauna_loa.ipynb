{
 "cells": [
  {
   "cell_type": "code",
   "execution_count": 3,
   "metadata": {
    "deletable": false,
    "editable": false
   },
   "outputs": [],
   "source": [
    "# Initialize Otter\n",
    "import otter\n",
    "grader = otter.Notebook(\"mauna_loa.ipynb\")"
   ]
  },
  {
   "cell_type": "markdown",
   "metadata": {},
   "source": [
    "## Homework 8: Question 2\n",
    "# 52 pts, Due Tuesday March 8 at 11:59pm "
   ]
  },
  {
   "cell_type": "code",
   "execution_count": 4,
   "metadata": {},
   "outputs": [],
   "source": [
    "import pandas as pd\n",
    "import matplotlib.pyplot as plt\n",
    "import matplotlib\n",
    "import numpy as np\n",
    "%matplotlib inline"
   ]
  },
  {
   "cell_type": "markdown",
   "metadata": {},
   "source": [
    "## Point Breakdown\n",
    "\n",
    "| **Question #** | **Points**  |\n",
    "| -------------- | :---------: |\n",
    "| Question 0     | 4           |\n",
    "| Question 1     | 35          |\n",
    "| Question 2     | 43          |"
   ]
  },
  {
   "cell_type": "markdown",
   "metadata": {},
   "source": [
    "## Question 1: Making a gh-pages site (8 pts)\n",
    "Instructions to help you through this question can be found on [the class web site](https://bds311.github.io/gh_pages).\n",
    "\n",
    "Please post below a URL to your gh-pages repository (i.e. `https://github.com/github-username/github-username.github.io`), created with gh-pages according to the assignment directions. **Reminder** - the repository should have:\n",
    "1. An `index.md` file that is the homepage for your website\n",
    "2. A second `experience.md` in your repository\n",
    "3. A link in `index.md` that navigates website visitors to the page outlined by your second markdown file.\n",
    "\n",
    "\n"
   ]
  },
  {
   "cell_type": "markdown",
   "metadata": {},
   "source": [
    "\n",
    "https://loganrower.github.io/"
   ]
  },
  {
   "cell_type": "markdown",
   "metadata": {},
   "source": [
    "<!-- END QUESTION -->\n",
    "\n",
    "### Question 2a (6 pts):\n",
    "Read `mauna_loa.csv` into Pandas as a dataframe and make a scatter plot of C02 over time using the `C02` and `decimal_date` columns."
   ]
  },
  {
   "cell_type": "markdown",
   "metadata": {},
   "source": [
    "<!-- BEGIN QUESTION -->\n",
    "\n"
   ]
  },
  {
   "cell_type": "code",
   "execution_count": 11,
   "metadata": {
    "tags": []
   },
   "outputs": [
    {
     "data": {
      "text/plain": [
       "Text(0.5, 1.0, 'C02 concentration over time')"
      ]
     },
     "execution_count": 11,
     "metadata": {},
     "output_type": "execute_result"
    },
    {
     "data": {
      "image/png": "[encoded data removed]",
      "text/plain": [
       "<Figure size 432x288 with 1 Axes>"
      ]
     },
     "metadata": {
      "needs_background": "light"
     },
     "output_type": "display_data"
    }
   ],
   "source": [
    "\n",
    "# read in csv\n",
    "mauna_loa_df =  pd.read_csv('mauna_loa.csv')\n",
    "# variables:\n",
    "C02 = mauna_loa_df['C02']\n",
    "date = mauna_loa_df['decimal_date']\n",
    "\n",
    "# set the axes\n",
    "fig=plt.figure()\n",
    "ax2a=fig.add_subplot(111)\n",
    "\n",
    "# make a scatter plot of C02 over time using the C02 and decimal_date\n",
    "ax2a.scatter(date, C02)\n",
    "ax2a.set_xlabel('Date')\n",
    "ax2a.set_ylabel('C02')\n",
    "ax2a.set_title('C02 concentration over time')\n"
   ]
  },
  {
   "cell_type": "markdown",
   "metadata": {},
   "source": [
    "<!-- END QUESTION -->\n",
    "\n",
    "### Question 2b (12 pts):\n",
    "In `regression_fxns.py` file, complete the following three provided function definitions:\n",
    "\n",
    "```\n",
    "def make_standard_units(input_array):\n",
    "    Converts input_array to standard_units, where data has mean 0 and standard deviation of 1\n",
    "        INPUT: data array\n",
    "        OUTPUT: array in standard units\n",
    "    \n",
    "def calc_corrcoef_from_standardized_input(array1,array2):\n",
    "    Calculates Pearson correlation coefficient from two arrays in standard units\n",
    "    INPUT: array1, array2: In standard units\n",
    "    OUTPUT: Pearson correlation coefficient\n",
    "\n",
    "def get_regression_parameters(array1, array2):\n",
    "    Calculates regression parameters from two input arrays\n",
    "    INPUT: array1, array2: two data arrays\n",
    "    OUTPUT: regression_array, length 2: regression_array[0] is slope and regression_array[1] is intercept'''\n",
    "```\n",
    "The import regression_fxns below and use these methods to plot a predicted linear regression for the data above. Extend your fit line to 2100.\n",
    "\n",
    "Remember that the slope of the regression line is `correlation_coefficient * (sd(y)/sd(x))`.\n",
    "The intercept can be calculated from the equation of a line using the mean of the data and the slopes `meany = slope * meanx + intercept`\n",
    "\n",
    "**NOTE**: If you import your `regression_fxns.py` file and then make changes to the file, <u><em>you must restart your kernel (and re-import the file) for the changes to take effect</em></u>"
   ]
  },
  {
   "cell_type": "markdown",
   "metadata": {},
   "source": [
    "<!-- BEGIN QUESTION -->\n",
    "\n"
   ]
  },
  {
   "cell_type": "code",
   "execution_count": 6,
   "metadata": {
    "tags": []
   },
   "outputs": [],
   "source": [
    "# Import regression functions\n",
    "import regression_fxns as reg_func\n",
    "\n",
    "\n",
    "# User the functions in regression_fxns.py to graph a line of best fit on the data\n",
    "# Remember - line of best fit should be extended to 2100\n",
    "\n",
    "# set the axes\n",
    "fig=plt.figure()\n",
    "ax2b=fig.add_subplot(111)\n",
    "\n",
    "# make a scatter plot of C02 over time using the C02 and decimal_date\n",
    "ax2b.scatter(date, C02)\n",
    "# adding regression line to the plot\n",
    "## determined the correleation coefficeint\n",
    "r = reg_func.calc_corrcoef_from_standardized_input(date, C02)\n",
    "## array of parameters\n",
    "parameters = reg_func.get_regression_parameters(date,C02)\n",
    "### determined the slope\n",
    "slope =  parameters[0]\n",
    "### determined the y intercept\n",
    "y_int =  parameters[1]\n",
    "#ax2b.plot()\n",
    "# adding additional ammendments to the plot\n",
    "ax2b.set_xlabel('Date')\n",
    "ax2b.set_ylabel('C02')\n",
    "ax2b.set_title('C02 concentration over time')"
   ]
  },
  {
   "cell_type": "markdown",
   "metadata": {},
   "source": [
    "<!-- END QUESTION -->\n",
    "\n",
    "### Question 2c (6 pts):\n",
    "Based on calculated best-fit line, what would you predict the CO2 level to be in ppm in 2050, in 2100?\n",
    "\n",
    "**Note**: Autograder values used here are not the correct answers, only close to the correct answers. These autograder values should be used as an indicator that you're on the right track, not a 100% guarantee that you've gotten the question right."
   ]
  },
  {
   "cell_type": "code",
   "execution_count": 7,
   "metadata": {
    "tags": []
   },
   "outputs": [
    {
     "name": "stdout",
     "output_type": "stream",
     "text": [
      "Ellipsis\n",
      "Ellipsis\n"
     ]
    }
   ],
   "source": [
    "co2_2050 = ...\n",
    "print(co2_2050)\n",
    "co2_2100= ...\n",
    "print(co2_2100)"
   ]
  },
  {
   "cell_type": "code",
   "execution_count": 8,
   "metadata": {
    "deletable": false,
    "editable": false
   },
   "outputs": [
    {
     "data": {
      "text/html": [
       "<p><strong style='color: red;'><pre style='display: inline;'>q2c</pre> results:</strong></p><p><strong><pre style='display: inline;'>q2c - 1</pre> result:</strong></p><pre>    Trying:\n",
       "        assert np.isclose(co2_2050, 452, rtol = 10)\n",
       "    Expecting nothing\n",
       "    **********************************************************************\n",
       "    Line 1, in q2c 0\n",
       "    Failed example:\n",
       "        assert np.isclose(co2_2050, 452, rtol = 10)\n",
       "    Exception raised:\n",
       "        Traceback (most recent call last):\n",
       "          File \"C:\\Users\\lkrow\\anaconda3\\envs\\Warren_Lab\\lib\\doctest.py\", line 1336, in __run\n",
       "            exec(compile(example.source, filename, \"single\",\n",
       "          File \"<doctest q2c 0[0]>\", line 1, in <module>\n",
       "            assert np.isclose(co2_2050, 452, rtol = 10)\n",
       "          File \"<__array_function__ internals>\", line 5, in isclose\n",
       "          File \"C:\\Users\\lkrow\\anaconda3\\envs\\Warren_Lab\\lib\\site-packages\\numpy\\core\\numeric.py\", line 2355, in isclose\n",
       "            xfin = isfinite(x)\n",
       "        TypeError: ufunc 'isfinite' not supported for the input types, and the inputs could not be safely coerced to any supported types according to the casting rule ''safe''\n",
       "</pre><p><strong><pre style='display: inline;'>q2c - 2</pre> result:</strong></p><pre>    Trying:\n",
       "        assert np.isclose(co2_2100, 531, rtol = 10)\n",
       "    Expecting nothing\n",
       "    **********************************************************************\n",
       "    Line 1, in q2c 1\n",
       "    Failed example:\n",
       "        assert np.isclose(co2_2100, 531, rtol = 10)\n",
       "    Exception raised:\n",
       "        Traceback (most recent call last):\n",
       "          File \"C:\\Users\\lkrow\\anaconda3\\envs\\Warren_Lab\\lib\\doctest.py\", line 1336, in __run\n",
       "            exec(compile(example.source, filename, \"single\",\n",
       "          File \"<doctest q2c 1[0]>\", line 1, in <module>\n",
       "            assert np.isclose(co2_2100, 531, rtol = 10)\n",
       "          File \"<__array_function__ internals>\", line 5, in isclose\n",
       "          File \"C:\\Users\\lkrow\\anaconda3\\envs\\Warren_Lab\\lib\\site-packages\\numpy\\core\\numeric.py\", line 2355, in isclose\n",
       "            xfin = isfinite(x)\n",
       "        TypeError: ufunc 'isfinite' not supported for the input types, and the inputs could not be safely coerced to any supported types according to the casting rule ''safe''\n",
       "</pre>"
      ],
      "text/plain": [
       "q2c results:\n",
       "    q2c - 1 result:\n",
       "        Trying:\n",
       "            assert np.isclose(co2_2050, 452, rtol = 10)\n",
       "        Expecting nothing\n",
       "        **********************************************************************\n",
       "        Line 1, in q2c 0\n",
       "        Failed example:\n",
       "            assert np.isclose(co2_2050, 452, rtol = 10)\n",
       "        Exception raised:\n",
       "            Traceback (most recent call last):\n",
       "              File \"C:\\Users\\lkrow\\anaconda3\\envs\\Warren_Lab\\lib\\doctest.py\", line 1336, in __run\n",
       "                exec(compile(example.source, filename, \"single\",\n",
       "              File \"<doctest q2c 0[0]>\", line 1, in <module>\n",
       "                assert np.isclose(co2_2050, 452, rtol = 10)\n",
       "              File \"<__array_function__ internals>\", line 5, in isclose\n",
       "              File \"C:\\Users\\lkrow\\anaconda3\\envs\\Warren_Lab\\lib\\site-packages\\numpy\\core\\numeric.py\", line 2355, in isclose\n",
       "                xfin = isfinite(x)\n",
       "            TypeError: ufunc 'isfinite' not supported for the input types, and the inputs could not be safely coerced to any supported types according to the casting rule ''safe''\n",
       "\n",
       "    q2c - 2 result:\n",
       "        Trying:\n",
       "            assert np.isclose(co2_2100, 531, rtol = 10)\n",
       "        Expecting nothing\n",
       "        **********************************************************************\n",
       "        Line 1, in q2c 1\n",
       "        Failed example:\n",
       "            assert np.isclose(co2_2100, 531, rtol = 10)\n",
       "        Exception raised:\n",
       "            Traceback (most recent call last):\n",
       "              File \"C:\\Users\\lkrow\\anaconda3\\envs\\Warren_Lab\\lib\\doctest.py\", line 1336, in __run\n",
       "                exec(compile(example.source, filename, \"single\",\n",
       "              File \"<doctest q2c 1[0]>\", line 1, in <module>\n",
       "                assert np.isclose(co2_2100, 531, rtol = 10)\n",
       "              File \"<__array_function__ internals>\", line 5, in isclose\n",
       "              File \"C:\\Users\\lkrow\\anaconda3\\envs\\Warren_Lab\\lib\\site-packages\\numpy\\core\\numeric.py\", line 2355, in isclose\n",
       "                xfin = isfinite(x)\n",
       "            TypeError: ufunc 'isfinite' not supported for the input types, and the inputs could not be safely coerced to any supported types according to the casting rule ''safe''"
      ]
     },
     "execution_count": 8,
     "metadata": {},
     "output_type": "execute_result"
    }
   ],
   "source": [
    "grader.check(\"q2c\")"
   ]
  },
  {
   "cell_type": "markdown",
   "metadata": {},
   "source": [
    "### Question 2d:\n",
    "If you were to fit only based on last 10 years of recorded data, would predicted CO2 levels be higher or lower? Why?"
   ]
  },
  {
   "cell_type": "markdown",
   "metadata": {},
   "source": [
    "_Type your answer here, replacing this text._"
   ]
  },
  {
   "cell_type": "markdown",
   "metadata": {},
   "source": [
    "<!-- END QUESTION -->\n",
    "\n"
   ]
  },
  {
   "cell_type": "markdown",
   "metadata": {
    "deletable": false,
    "editable": false
   },
   "source": [
    "---\n",
    "\n",
    "To double-check your work, the cell below will rerun all of the autograder tests."
   ]
  },
  {
   "cell_type": "code",
   "execution_count": 9,
   "metadata": {
    "deletable": false,
    "editable": false
   },
   "outputs": [
    {
     "data": {
      "text/plain": [
       "q2c results:\n",
       "    q2c - 1 result:\n",
       "        Trying:\n",
       "            assert np.isclose(co2_2050, 452, rtol = 10)\n",
       "        Expecting nothing\n",
       "        **********************************************************************\n",
       "        Line 1, in q2c 0\n",
       "        Failed example:\n",
       "            assert np.isclose(co2_2050, 452, rtol = 10)\n",
       "        Exception raised:\n",
       "            Traceback (most recent call last):\n",
       "              File \"C:\\Users\\lkrow\\anaconda3\\envs\\Warren_Lab\\lib\\doctest.py\", line 1336, in __run\n",
       "                exec(compile(example.source, filename, \"single\",\n",
       "              File \"<doctest q2c 0[0]>\", line 1, in <module>\n",
       "                assert np.isclose(co2_2050, 452, rtol = 10)\n",
       "              File \"<__array_function__ internals>\", line 5, in isclose\n",
       "              File \"C:\\Users\\lkrow\\anaconda3\\envs\\Warren_Lab\\lib\\site-packages\\numpy\\core\\numeric.py\", line 2355, in isclose\n",
       "                xfin = isfinite(x)\n",
       "            TypeError: ufunc 'isfinite' not supported for the input types, and the inputs could not be safely coerced to any supported types according to the casting rule ''safe''\n",
       "\n",
       "    q2c - 2 result:\n",
       "        Trying:\n",
       "            assert np.isclose(co2_2100, 531, rtol = 10)\n",
       "        Expecting nothing\n",
       "        **********************************************************************\n",
       "        Line 1, in q2c 1\n",
       "        Failed example:\n",
       "            assert np.isclose(co2_2100, 531, rtol = 10)\n",
       "        Exception raised:\n",
       "            Traceback (most recent call last):\n",
       "              File \"C:\\Users\\lkrow\\anaconda3\\envs\\Warren_Lab\\lib\\doctest.py\", line 1336, in __run\n",
       "                exec(compile(example.source, filename, \"single\",\n",
       "              File \"<doctest q2c 1[0]>\", line 1, in <module>\n",
       "                assert np.isclose(co2_2100, 531, rtol = 10)\n",
       "              File \"<__array_function__ internals>\", line 5, in isclose\n",
       "              File \"C:\\Users\\lkrow\\anaconda3\\envs\\Warren_Lab\\lib\\site-packages\\numpy\\core\\numeric.py\", line 2355, in isclose\n",
       "                xfin = isfinite(x)\n",
       "            TypeError: ufunc 'isfinite' not supported for the input types, and the inputs could not be safely coerced to any supported types according to the casting rule ''safe''"
      ]
     },
     "execution_count": 9,
     "metadata": {},
     "output_type": "execute_result"
    }
   ],
   "source": [
    "grader.check_all()"
   ]
  },
  {
   "cell_type": "code",
   "execution_count": null,
   "metadata": {},
   "outputs": [],
   "source": []
  },
  {
   "cell_type": "markdown",
   "metadata": {},
   "source": [
    "# Special Submission Instructions for this assignment:\n",
    "### Rather than uploading .zip file to gradescope, upload your completed `mauna_loa.ipynb` and `regression_fxns.py` files in gradescope folder."
   ]
  },
  {
   "cell_type": "markdown",
   "metadata": {
    "deletable": false,
    "editable": false
   },
   "source": [
    "## Submission\n",
    "\n",
    "Make sure you have run all cells in your notebook in order before running the cell below, so that all images/graphs appear in the output. The cell below will generate a zip file for you to submit. **Please save before exporting!**"
   ]
  },
  {
   "cell_type": "code",
   "execution_count": 10,
   "metadata": {
    "deletable": false,
    "editable": false
   },
   "outputs": [
    {
     "ename": "PandocMissing",
     "evalue": "Pandoc wasn't found.\nPlease check that pandoc is installed:\nhttps://pandoc.org/installing.html",
     "output_type": "error",
     "traceback": [
      "\u001b[1;31m---------------------------------------------------------------------------\u001b[0m",
      "\u001b[1;31mPandocMissing\u001b[0m                             Traceback (most recent call last)",
      "\u001b[1;32mc:\\Users\\lkrow\\vscodeProjects\\mauna_loa\\mauna_loa.ipynb Cell 24'\u001b[0m in \u001b[0;36m<cell line: 2>\u001b[1;34m()\u001b[0m\n\u001b[0;32m      <a href='vscode-notebook-cell:/c%3A/Users/lkrow/vscodeProjects/mauna_loa/mauna_loa.ipynb#ch0000023?line=0'>1</a>\u001b[0m \u001b[39m# Save your notebook first, then run this cell to export your submission.\u001b[39;00m\n\u001b[1;32m----> <a href='vscode-notebook-cell:/c%3A/Users/lkrow/vscodeProjects/mauna_loa/mauna_loa.ipynb#ch0000023?line=1'>2</a>\u001b[0m grader\u001b[39m.\u001b[39;49mexport()\n",
      "File \u001b[1;32m~\\anaconda3\\envs\\Warren_Lab\\lib\\site-packages\\otter\\check\\utils.py:97\u001b[0m, in \u001b[0;36mcolab_incompatible.<locals>.colab_only_method\u001b[1;34m(self, *args, **kwargs)\u001b[0m\n\u001b[0;32m     <a href='file:///~/anaconda3/envs/Warren_Lab/lib/site-packages/otter/check/utils.py?line=94'>95</a>\u001b[0m \u001b[39mif\u001b[39;00m \u001b[39mself\u001b[39m\u001b[39m.\u001b[39m_colab:\n\u001b[0;32m     <a href='file:///~/anaconda3/envs/Warren_Lab/lib/site-packages/otter/check/utils.py?line=95'>96</a>\u001b[0m     \u001b[39mraise\u001b[39;00m \u001b[39mRuntimeError\u001b[39;00m(\u001b[39m\"\u001b[39m\u001b[39mThis method is not compatible with Google Colab\u001b[39m\u001b[39m\"\u001b[39m)\n\u001b[1;32m---> <a href='file:///~/anaconda3/envs/Warren_Lab/lib/site-packages/otter/check/utils.py?line=96'>97</a>\u001b[0m \u001b[39mreturn\u001b[39;00m f(\u001b[39mself\u001b[39m, \u001b[39m*\u001b[39margs, \u001b[39m*\u001b[39m\u001b[39m*\u001b[39mkwargs)\n",
      "File \u001b[1;32m~\\anaconda3\\envs\\Warren_Lab\\lib\\site-packages\\otter\\check\\utils.py:131\u001b[0m, in \u001b[0;36mlogs_event.<locals>.event_logger.<locals>.run_function\u001b[1;34m(self, *args, **kwargs)\u001b[0m\n\u001b[0;32m    <a href='file:///~/anaconda3/envs/Warren_Lab/lib/site-packages/otter/check/utils.py?line=128'>129</a>\u001b[0m \u001b[39mexcept\u001b[39;00m \u001b[39mException\u001b[39;00m \u001b[39mas\u001b[39;00m e:\n\u001b[0;32m    <a href='file:///~/anaconda3/envs/Warren_Lab/lib/site-packages/otter/check/utils.py?line=129'>130</a>\u001b[0m     \u001b[39mself\u001b[39m\u001b[39m.\u001b[39m_log_event(event_type, success\u001b[39m=\u001b[39m\u001b[39mFalse\u001b[39;00m, error\u001b[39m=\u001b[39me)\n\u001b[1;32m--> <a href='file:///~/anaconda3/envs/Warren_Lab/lib/site-packages/otter/check/utils.py?line=130'>131</a>\u001b[0m     \u001b[39mraise\u001b[39;00m e\n\u001b[0;32m    <a href='file:///~/anaconda3/envs/Warren_Lab/lib/site-packages/otter/check/utils.py?line=131'>132</a>\u001b[0m \u001b[39melse\u001b[39;00m:\n\u001b[0;32m    <a href='file:///~/anaconda3/envs/Warren_Lab/lib/site-packages/otter/check/utils.py?line=132'>133</a>\u001b[0m     \u001b[39mself\u001b[39m\u001b[39m.\u001b[39m_log_event(event_type, results\u001b[39m=\u001b[39mresults, question\u001b[39m=\u001b[39mquestion, shelve_env\u001b[39m=\u001b[39mshelve_env)\n",
      "File \u001b[1;32m~\\anaconda3\\envs\\Warren_Lab\\lib\\site-packages\\otter\\check\\utils.py:126\u001b[0m, in \u001b[0;36mlogs_event.<locals>.event_logger.<locals>.run_function\u001b[1;34m(self, *args, **kwargs)\u001b[0m\n\u001b[0;32m    <a href='file:///~/anaconda3/envs/Warren_Lab/lib/site-packages/otter/check/utils.py?line=123'>124</a>\u001b[0m     question, results, shelve_env \u001b[39m=\u001b[39m f(\u001b[39mself\u001b[39m, \u001b[39m*\u001b[39margs, \u001b[39m*\u001b[39m\u001b[39m*\u001b[39mkwargs)\n\u001b[0;32m    <a href='file:///~/anaconda3/envs/Warren_Lab/lib/site-packages/otter/check/utils.py?line=124'>125</a>\u001b[0m \u001b[39melse\u001b[39;00m:\n\u001b[1;32m--> <a href='file:///~/anaconda3/envs/Warren_Lab/lib/site-packages/otter/check/utils.py?line=125'>126</a>\u001b[0m     results \u001b[39m=\u001b[39m f(\u001b[39mself\u001b[39m, \u001b[39m*\u001b[39margs, \u001b[39m*\u001b[39m\u001b[39m*\u001b[39mkwargs)\n\u001b[0;32m    <a href='file:///~/anaconda3/envs/Warren_Lab/lib/site-packages/otter/check/utils.py?line=126'>127</a>\u001b[0m     shelve_env \u001b[39m=\u001b[39m {}\n\u001b[0;32m    <a href='file:///~/anaconda3/envs/Warren_Lab/lib/site-packages/otter/check/utils.py?line=127'>128</a>\u001b[0m     question \u001b[39m=\u001b[39m \u001b[39mNone\u001b[39;00m\n",
      "File \u001b[1;32m~\\anaconda3\\envs\\Warren_Lab\\lib\\site-packages\\otter\\check\\notebook.py:324\u001b[0m, in \u001b[0;36mNotebook.export\u001b[1;34m(self, nb_path, export_path, pdf, filtering, pagebreaks, files, display_link, force_save, run_tests)\u001b[0m\n\u001b[0;32m    <a href='file:///~/anaconda3/envs/Warren_Lab/lib/site-packages/otter/check/notebook.py?line=321'>322</a>\u001b[0m pdf_path \u001b[39m=\u001b[39m \u001b[39m\"\u001b[39m\u001b[39m.\u001b[39m\u001b[39m\"\u001b[39m\u001b[39m.\u001b[39mjoin(nb_path\u001b[39m.\u001b[39msplit(\u001b[39m\"\u001b[39m\u001b[39m.\u001b[39m\u001b[39m\"\u001b[39m)[:\u001b[39m-\u001b[39m\u001b[39m1\u001b[39m]) \u001b[39m+\u001b[39m \u001b[39m\"\u001b[39m\u001b[39m.pdf\u001b[39m\u001b[39m\"\u001b[39m\n\u001b[0;32m    <a href='file:///~/anaconda3/envs/Warren_Lab/lib/site-packages/otter/check/notebook.py?line=322'>323</a>\u001b[0m \u001b[39m# convert(nb_path, filtering=filtering, filter_type=filter_type)\u001b[39;00m\n\u001b[1;32m--> <a href='file:///~/anaconda3/envs/Warren_Lab/lib/site-packages/otter/check/notebook.py?line=323'>324</a>\u001b[0m export_notebook(nb_path, filtering\u001b[39m=\u001b[39;49mfiltering, pagebreaks\u001b[39m=\u001b[39;49mpagebreaks)\n\u001b[0;32m    <a href='file:///~/anaconda3/envs/Warren_Lab/lib/site-packages/otter/check/notebook.py?line=324'>325</a>\u001b[0m \u001b[39mif\u001b[39;00m os\u001b[39m.\u001b[39mpath\u001b[39m.\u001b[39misfile(pdf_path):\n\u001b[0;32m    <a href='file:///~/anaconda3/envs/Warren_Lab/lib/site-packages/otter/check/notebook.py?line=325'>326</a>\u001b[0m     zf\u001b[39m.\u001b[39mwrite(pdf_path)\n",
      "File \u001b[1;32m~\\anaconda3\\envs\\Warren_Lab\\lib\\site-packages\\otter\\export\\__init__.py:31\u001b[0m, in \u001b[0;36mexport_notebook\u001b[1;34m(nb_path, dest, exporter_type, **kwargs)\u001b[0m\n\u001b[0;32m     <a href='file:///~/anaconda3/envs/Warren_Lab/lib/site-packages/otter/export/__init__.py?line=27'>28</a>\u001b[0m     pdf_name \u001b[39m=\u001b[39m os\u001b[39m.\u001b[39mpath\u001b[39m.\u001b[39msplitext(nb_path)[\u001b[39m0\u001b[39m] \u001b[39m+\u001b[39m \u001b[39m\"\u001b[39m\u001b[39m.pdf\u001b[39m\u001b[39m\"\u001b[39m\n\u001b[0;32m     <a href='file:///~/anaconda3/envs/Warren_Lab/lib/site-packages/otter/export/__init__.py?line=29'>30</a>\u001b[0m Exporter \u001b[39m=\u001b[39m get_exporter(exporter_type\u001b[39m=\u001b[39mexporter_type)\n\u001b[1;32m---> <a href='file:///~/anaconda3/envs/Warren_Lab/lib/site-packages/otter/export/__init__.py?line=30'>31</a>\u001b[0m Exporter\u001b[39m.\u001b[39mconvert_notebook(nb_path, pdf_name, \u001b[39m*\u001b[39m\u001b[39m*\u001b[39mkwargs)\n",
      "File \u001b[1;32m~\\anaconda3\\envs\\Warren_Lab\\lib\\site-packages\\otter\\export\\exporters\\via_latex.py:64\u001b[0m, in \u001b[0;36mPDFViaLatexExporter.convert_notebook\u001b[1;34m(cls, nb_path, dest, xecjk, no_xecjk, **kwargs)\u001b[0m\n\u001b[0;32m     <a href='file:///~/anaconda3/envs/Warren_Lab/lib/site-packages/otter/export/exporters/via_latex.py?line=60'>61</a>\u001b[0m     pdf_exporter\u001b[39m.\u001b[39mtemplate_file \u001b[39m=\u001b[39m os\u001b[39m.\u001b[39mpath\u001b[39m.\u001b[39mjoin(TEMPLATE_DIR, options[\u001b[39m\"\u001b[39m\u001b[39mtemplate\u001b[39m\u001b[39m\"\u001b[39m] \u001b[39m+\u001b[39m \u001b[39m\"\u001b[39m\u001b[39m.tpl\u001b[39m\u001b[39m\"\u001b[39m)\n\u001b[0;32m     <a href='file:///~/anaconda3/envs/Warren_Lab/lib/site-packages/otter/export/exporters/via_latex.py?line=62'>63</a>\u001b[0m \u001b[39mtry\u001b[39;00m:\n\u001b[1;32m---> <a href='file:///~/anaconda3/envs/Warren_Lab/lib/site-packages/otter/export/exporters/via_latex.py?line=63'>64</a>\u001b[0m     pdf_output \u001b[39m=\u001b[39m pdf_exporter\u001b[39m.\u001b[39;49mfrom_notebook_node(nb)\n\u001b[0;32m     <a href='file:///~/anaconda3/envs/Warren_Lab/lib/site-packages/otter/export/exporters/via_latex.py?line=64'>65</a>\u001b[0m     \u001b[39mwith\u001b[39;00m \u001b[39mopen\u001b[39m(dest, \u001b[39m\"\u001b[39m\u001b[39mwb\u001b[39m\u001b[39m\"\u001b[39m) \u001b[39mas\u001b[39;00m output_file:\n\u001b[0;32m     <a href='file:///~/anaconda3/envs/Warren_Lab/lib/site-packages/otter/export/exporters/via_latex.py?line=65'>66</a>\u001b[0m         output_file\u001b[39m.\u001b[39mwrite(pdf_output[\u001b[39m0\u001b[39m])\n",
      "File \u001b[1;32m~\\anaconda3\\envs\\Warren_Lab\\lib\\site-packages\\nbconvert\\exporters\\pdf.py:168\u001b[0m, in \u001b[0;36mPDFExporter.from_notebook_node\u001b[1;34m(self, nb, resources, **kw)\u001b[0m\n\u001b[0;32m    <a href='file:///~/anaconda3/envs/Warren_Lab/lib/site-packages/nbconvert/exporters/pdf.py?line=166'>167</a>\u001b[0m \u001b[39mdef\u001b[39;00m \u001b[39mfrom_notebook_node\u001b[39m(\u001b[39mself\u001b[39m, nb, resources\u001b[39m=\u001b[39m\u001b[39mNone\u001b[39;00m, \u001b[39m*\u001b[39m\u001b[39m*\u001b[39mkw):\n\u001b[1;32m--> <a href='file:///~/anaconda3/envs/Warren_Lab/lib/site-packages/nbconvert/exporters/pdf.py?line=167'>168</a>\u001b[0m     latex, resources \u001b[39m=\u001b[39m \u001b[39msuper\u001b[39m()\u001b[39m.\u001b[39mfrom_notebook_node(\n\u001b[0;32m    <a href='file:///~/anaconda3/envs/Warren_Lab/lib/site-packages/nbconvert/exporters/pdf.py?line=168'>169</a>\u001b[0m         nb, resources\u001b[39m=\u001b[39mresources, \u001b[39m*\u001b[39m\u001b[39m*\u001b[39mkw\n\u001b[0;32m    <a href='file:///~/anaconda3/envs/Warren_Lab/lib/site-packages/nbconvert/exporters/pdf.py?line=169'>170</a>\u001b[0m     )\n\u001b[0;32m    <a href='file:///~/anaconda3/envs/Warren_Lab/lib/site-packages/nbconvert/exporters/pdf.py?line=170'>171</a>\u001b[0m     \u001b[39m# set texinputs directory, so that local files will be found\u001b[39;00m\n\u001b[0;32m    <a href='file:///~/anaconda3/envs/Warren_Lab/lib/site-packages/nbconvert/exporters/pdf.py?line=171'>172</a>\u001b[0m     \u001b[39mif\u001b[39;00m resources \u001b[39mand\u001b[39;00m resources\u001b[39m.\u001b[39mget(\u001b[39m'\u001b[39m\u001b[39mmetadata\u001b[39m\u001b[39m'\u001b[39m, {})\u001b[39m.\u001b[39mget(\u001b[39m'\u001b[39m\u001b[39mpath\u001b[39m\u001b[39m'\u001b[39m):\n",
      "File \u001b[1;32m~\\anaconda3\\envs\\Warren_Lab\\lib\\site-packages\\nbconvert\\exporters\\latex.py:72\u001b[0m, in \u001b[0;36mLatexExporter.from_notebook_node\u001b[1;34m(self, nb, resources, **kw)\u001b[0m\n\u001b[0;32m     <a href='file:///~/anaconda3/envs/Warren_Lab/lib/site-packages/nbconvert/exporters/latex.py?line=68'>69</a>\u001b[0m highlight_code \u001b[39m=\u001b[39m \u001b[39mself\u001b[39m\u001b[39m.\u001b[39mfilters\u001b[39m.\u001b[39mget(\u001b[39m'\u001b[39m\u001b[39mhighlight_code\u001b[39m\u001b[39m'\u001b[39m, Highlight2Latex(pygments_lexer\u001b[39m=\u001b[39mlexer, parent\u001b[39m=\u001b[39m\u001b[39mself\u001b[39m))\n\u001b[0;32m     <a href='file:///~/anaconda3/envs/Warren_Lab/lib/site-packages/nbconvert/exporters/latex.py?line=69'>70</a>\u001b[0m \u001b[39mself\u001b[39m\u001b[39m.\u001b[39mregister_filter(\u001b[39m'\u001b[39m\u001b[39mhighlight_code\u001b[39m\u001b[39m'\u001b[39m, highlight_code)\n\u001b[1;32m---> <a href='file:///~/anaconda3/envs/Warren_Lab/lib/site-packages/nbconvert/exporters/latex.py?line=71'>72</a>\u001b[0m \u001b[39mreturn\u001b[39;00m \u001b[39msuper\u001b[39m()\u001b[39m.\u001b[39mfrom_notebook_node(nb, resources, \u001b[39m*\u001b[39m\u001b[39m*\u001b[39mkw)\n",
      "File \u001b[1;32m~\\anaconda3\\envs\\Warren_Lab\\lib\\site-packages\\nbconvert\\exporters\\templateexporter.py:392\u001b[0m, in \u001b[0;36mTemplateExporter.from_notebook_node\u001b[1;34m(self, nb, resources, **kw)\u001b[0m\n\u001b[0;32m    <a href='file:///~/anaconda3/envs/Warren_Lab/lib/site-packages/nbconvert/exporters/templateexporter.py?line=377'>378</a>\u001b[0m resources[\u001b[39m'\u001b[39m\u001b[39mglobal_content_filter\u001b[39m\u001b[39m'\u001b[39m] \u001b[39m=\u001b[39m {\n\u001b[0;32m    <a href='file:///~/anaconda3/envs/Warren_Lab/lib/site-packages/nbconvert/exporters/templateexporter.py?line=378'>379</a>\u001b[0m         \u001b[39m'\u001b[39m\u001b[39minclude_code\u001b[39m\u001b[39m'\u001b[39m: \u001b[39mnot\u001b[39;00m \u001b[39mself\u001b[39m\u001b[39m.\u001b[39mexclude_code_cell,\n\u001b[0;32m    <a href='file:///~/anaconda3/envs/Warren_Lab/lib/site-packages/nbconvert/exporters/templateexporter.py?line=379'>380</a>\u001b[0m         \u001b[39m'\u001b[39m\u001b[39minclude_markdown\u001b[39m\u001b[39m'\u001b[39m: \u001b[39mnot\u001b[39;00m \u001b[39mself\u001b[39m\u001b[39m.\u001b[39mexclude_markdown,\n\u001b[1;32m   (...)\u001b[0m\n\u001b[0;32m    <a href='file:///~/anaconda3/envs/Warren_Lab/lib/site-packages/nbconvert/exporters/templateexporter.py?line=387'>388</a>\u001b[0m         \u001b[39m'\u001b[39m\u001b[39mno_prompt\u001b[39m\u001b[39m'\u001b[39m: \u001b[39mself\u001b[39m\u001b[39m.\u001b[39mexclude_input_prompt \u001b[39mand\u001b[39;00m \u001b[39mself\u001b[39m\u001b[39m.\u001b[39mexclude_output_prompt,\n\u001b[0;32m    <a href='file:///~/anaconda3/envs/Warren_Lab/lib/site-packages/nbconvert/exporters/templateexporter.py?line=388'>389</a>\u001b[0m         }\n\u001b[0;32m    <a href='file:///~/anaconda3/envs/Warren_Lab/lib/site-packages/nbconvert/exporters/templateexporter.py?line=390'>391</a>\u001b[0m \u001b[39m# Top level variables are passed to the template_exporter here.\u001b[39;00m\n\u001b[1;32m--> <a href='file:///~/anaconda3/envs/Warren_Lab/lib/site-packages/nbconvert/exporters/templateexporter.py?line=391'>392</a>\u001b[0m output \u001b[39m=\u001b[39m \u001b[39mself\u001b[39;49m\u001b[39m.\u001b[39;49mtemplate\u001b[39m.\u001b[39;49mrender(nb\u001b[39m=\u001b[39;49mnb_copy, resources\u001b[39m=\u001b[39;49mresources)\n\u001b[0;32m    <a href='file:///~/anaconda3/envs/Warren_Lab/lib/site-packages/nbconvert/exporters/templateexporter.py?line=392'>393</a>\u001b[0m output \u001b[39m=\u001b[39m output\u001b[39m.\u001b[39mlstrip(\u001b[39m'\u001b[39m\u001b[39m\\r\u001b[39;00m\u001b[39m\\n\u001b[39;00m\u001b[39m'\u001b[39m)\n\u001b[0;32m    <a href='file:///~/anaconda3/envs/Warren_Lab/lib/site-packages/nbconvert/exporters/templateexporter.py?line=393'>394</a>\u001b[0m \u001b[39mreturn\u001b[39;00m output, resources\n",
      "File \u001b[1;32m~\\anaconda3\\envs\\Warren_Lab\\lib\\site-packages\\jinja2\\environment.py:1291\u001b[0m, in \u001b[0;36mTemplate.render\u001b[1;34m(self, *args, **kwargs)\u001b[0m\n\u001b[0;32m   <a href='file:///~/anaconda3/envs/Warren_Lab/lib/site-packages/jinja2/environment.py?line=1288'>1289</a>\u001b[0m     \u001b[39mreturn\u001b[39;00m concat(\u001b[39mself\u001b[39m\u001b[39m.\u001b[39mroot_render_func(ctx))  \u001b[39m# type: ignore\u001b[39;00m\n\u001b[0;32m   <a href='file:///~/anaconda3/envs/Warren_Lab/lib/site-packages/jinja2/environment.py?line=1289'>1290</a>\u001b[0m \u001b[39mexcept\u001b[39;00m \u001b[39mException\u001b[39;00m:\n\u001b[1;32m-> <a href='file:///~/anaconda3/envs/Warren_Lab/lib/site-packages/jinja2/environment.py?line=1290'>1291</a>\u001b[0m     \u001b[39mself\u001b[39;49m\u001b[39m.\u001b[39;49menvironment\u001b[39m.\u001b[39;49mhandle_exception()\n",
      "File \u001b[1;32m~\\anaconda3\\envs\\Warren_Lab\\lib\\site-packages\\jinja2\\environment.py:925\u001b[0m, in \u001b[0;36mEnvironment.handle_exception\u001b[1;34m(self, source)\u001b[0m\n\u001b[0;32m    <a href='file:///~/anaconda3/envs/Warren_Lab/lib/site-packages/jinja2/environment.py?line=919'>920</a>\u001b[0m \u001b[39m\"\"\"Exception handling helper.  This is used internally to either raise\u001b[39;00m\n\u001b[0;32m    <a href='file:///~/anaconda3/envs/Warren_Lab/lib/site-packages/jinja2/environment.py?line=920'>921</a>\u001b[0m \u001b[39mrewritten exceptions or return a rendered traceback for the template.\u001b[39;00m\n\u001b[0;32m    <a href='file:///~/anaconda3/envs/Warren_Lab/lib/site-packages/jinja2/environment.py?line=921'>922</a>\u001b[0m \u001b[39m\"\"\"\u001b[39;00m\n\u001b[0;32m    <a href='file:///~/anaconda3/envs/Warren_Lab/lib/site-packages/jinja2/environment.py?line=922'>923</a>\u001b[0m \u001b[39mfrom\u001b[39;00m \u001b[39m.\u001b[39;00m\u001b[39mdebug\u001b[39;00m \u001b[39mimport\u001b[39;00m rewrite_traceback_stack\n\u001b[1;32m--> <a href='file:///~/anaconda3/envs/Warren_Lab/lib/site-packages/jinja2/environment.py?line=924'>925</a>\u001b[0m \u001b[39mraise\u001b[39;00m rewrite_traceback_stack(source\u001b[39m=\u001b[39msource)\n",
      "File \u001b[1;32m~\\anaconda3\\envs\\Warren_Lab\\lib\\site-packages\\otter\\export\\exporters\\templates\\via_latex\\index.tex.j2:7\u001b[0m, in \u001b[0;36mtop-level template code\u001b[1;34m()\u001b[0m\n\u001b[0;32m      <a href='file:///~/anaconda3/envs/Warren_Lab/lib/site-packages/otter/export/exporters/templates/via_latex/index.tex.j2?line=4'>5</a>\u001b[0m \n\u001b[0;32m      <a href='file:///~/anaconda3/envs/Warren_Lab/lib/site-packages/otter/export/exporters/templates/via_latex/index.tex.j2?line=5'>6</a>\u001b[0m % Inherit from the specified cell style.\n\u001b[1;32m----> <a href='file:///~/anaconda3/envs/Warren_Lab/lib/site-packages/otter/export/exporters/templates/via_latex/index.tex.j2?line=6'>7</a>\u001b[0m ((* extends cell_style *))\n\u001b[0;32m      <a href='file:///~/anaconda3/envs/Warren_Lab/lib/site-packages/otter/export/exporters/templates/via_latex/index.tex.j2?line=7'>8</a>\u001b[0m \n\u001b[0;32m      <a href='file:///~/anaconda3/envs/Warren_Lab/lib/site-packages/otter/export/exporters/templates/via_latex/index.tex.j2?line=8'>9</a>\u001b[0m \n",
      "File \u001b[1;32m~\\anaconda3\\envs\\Warren_Lab\\share\\jupyter\\nbconvert\\templates\\latex\\style_ipython.tex.j2:68\u001b[0m, in \u001b[0;36mtop-level template code\u001b[1;34m()\u001b[0m\n\u001b[0;32m     <a href='file:///~/anaconda3/envs/Warren_Lab/share/jupyter/nbconvert/templates/latex/style_ipython.tex.j2?line=65'>66</a>\u001b[0m     ((*- set indention =  \" \" * (execution_count | length + 7) -*))\n\u001b[0;32m     <a href='file:///~/anaconda3/envs/Warren_Lab/share/jupyter/nbconvert/templates/latex/style_ipython.tex.j2?line=66'>67</a>\u001b[0m \\begin{Verbatim}[commandchars=\\\\\\{\\}]\n\u001b[1;32m---> <a href='file:///~/anaconda3/envs/Warren_Lab/share/jupyter/nbconvert/templates/latex/style_ipython.tex.j2?line=67'>68</a>\u001b[0m ((( text | add_prompts(first='{\\color{' ~ prompt_color ~ '}' ~ prompt ~ '[{\\\\color{' ~ prompt_color ~ '}' ~ execution_count ~ '}]:} ', cont=indention) )))\n\u001b[0;32m     <a href='file:///~/anaconda3/envs/Warren_Lab/share/jupyter/nbconvert/templates/latex/style_ipython.tex.j2?line=68'>69</a>\u001b[0m \\end{Verbatim}\n\u001b[0;32m     <a href='file:///~/anaconda3/envs/Warren_Lab/share/jupyter/nbconvert/templates/latex/style_ipython.tex.j2?line=69'>70</a>\u001b[0m ((*- endmacro *))\n",
      "File \u001b[1;32m~\\anaconda3\\envs\\Warren_Lab\\share\\jupyter\\nbconvert\\templates\\latex\\base.tex.j2:7\u001b[0m, in \u001b[0;36mtop-level template code\u001b[1;34m()\u001b[0m\n\u001b[0;32m      <a href='file:///~/anaconda3/envs/Warren_Lab/share/jupyter/nbconvert/templates/latex/base.tex.j2?line=4'>5</a>\u001b[0m override this.-=))\n\u001b[0;32m      <a href='file:///~/anaconda3/envs/Warren_Lab/share/jupyter/nbconvert/templates/latex/base.tex.j2?line=5'>6</a>\u001b[0m \n\u001b[1;32m----> <a href='file:///~/anaconda3/envs/Warren_Lab/share/jupyter/nbconvert/templates/latex/base.tex.j2?line=6'>7</a>\u001b[0m ((*- extends 'document_contents.tex.j2' -*))\n\u001b[0;32m      <a href='file:///~/anaconda3/envs/Warren_Lab/share/jupyter/nbconvert/templates/latex/base.tex.j2?line=7'>8</a>\u001b[0m \n\u001b[0;32m      <a href='file:///~/anaconda3/envs/Warren_Lab/share/jupyter/nbconvert/templates/latex/base.tex.j2?line=8'>9</a>\u001b[0m %===============================================================================\n",
      "File \u001b[1;32m~\\anaconda3\\envs\\Warren_Lab\\share\\jupyter\\nbconvert\\templates\\latex\\document_contents.tex.j2:51\u001b[0m, in \u001b[0;36mtop-level template code\u001b[1;34m()\u001b[0m\n\u001b[0;32m     <a href='file:///~/anaconda3/envs/Warren_Lab/share/jupyter/nbconvert/templates/latex/document_contents.tex.j2?line=48'>49</a>\u001b[0m ((* macro draw_figure(filename) -*))\n\u001b[0;32m     <a href='file:///~/anaconda3/envs/Warren_Lab/share/jupyter/nbconvert/templates/latex/document_contents.tex.j2?line=49'>50</a>\u001b[0m ((* set filename = filename | posix_path *))\n\u001b[1;32m---> <a href='file:///~/anaconda3/envs/Warren_Lab/share/jupyter/nbconvert/templates/latex/document_contents.tex.j2?line=50'>51</a>\u001b[0m ((*- block figure scoped -*))\n\u001b[0;32m     <a href='file:///~/anaconda3/envs/Warren_Lab/share/jupyter/nbconvert/templates/latex/document_contents.tex.j2?line=51'>52</a>\u001b[0m     \\begin{center}\n\u001b[0;32m     <a href='file:///~/anaconda3/envs/Warren_Lab/share/jupyter/nbconvert/templates/latex/document_contents.tex.j2?line=52'>53</a>\u001b[0m     \\adjustimage{max size={0.9\\linewidth}{0.9\\paperheight}}{((( filename )))}\n",
      "File \u001b[1;32m~\\anaconda3\\envs\\Warren_Lab\\share\\jupyter\\nbconvert\\templates\\latex\\display_priority.j2:5\u001b[0m, in \u001b[0;36mtop-level template code\u001b[1;34m()\u001b[0m\n\u001b[0;32m      <a href='file:///~/anaconda3/envs/Warren_Lab/share/jupyter/nbconvert/templates/latex/display_priority.j2?line=2'>3</a>\u001b[0m \n\u001b[0;32m      <a href='file:///~/anaconda3/envs/Warren_Lab/share/jupyter/nbconvert/templates/latex/display_priority.j2?line=3'>4</a>\u001b[0m \n\u001b[1;32m----> <a href='file:///~/anaconda3/envs/Warren_Lab/share/jupyter/nbconvert/templates/latex/display_priority.j2?line=4'>5</a>\u001b[0m ((*- extends 'null.j2' -*))\n\u001b[0;32m      <a href='file:///~/anaconda3/envs/Warren_Lab/share/jupyter/nbconvert/templates/latex/display_priority.j2?line=5'>6</a>\u001b[0m \n\u001b[0;32m      <a href='file:///~/anaconda3/envs/Warren_Lab/share/jupyter/nbconvert/templates/latex/display_priority.j2?line=6'>7</a>\u001b[0m ((=display data priority=))\n",
      "File \u001b[1;32m~\\anaconda3\\envs\\Warren_Lab\\share\\jupyter\\nbconvert\\templates\\latex\\null.j2:30\u001b[0m, in \u001b[0;36mtop-level template code\u001b[1;34m()\u001b[0m\n\u001b[0;32m     <a href='file:///~/anaconda3/envs/Warren_Lab/share/jupyter/nbconvert/templates/latex/null.j2?line=27'>28</a>\u001b[0m ((*- block header -*))\n\u001b[0;32m     <a href='file:///~/anaconda3/envs/Warren_Lab/share/jupyter/nbconvert/templates/latex/null.j2?line=28'>29</a>\u001b[0m ((*- endblock header -*))\n\u001b[1;32m---> <a href='file:///~/anaconda3/envs/Warren_Lab/share/jupyter/nbconvert/templates/latex/null.j2?line=29'>30</a>\u001b[0m ((*- block body -*))\n\u001b[0;32m     <a href='file:///~/anaconda3/envs/Warren_Lab/share/jupyter/nbconvert/templates/latex/null.j2?line=30'>31</a>\u001b[0m ((*- for cell in nb.cells -*))\n\u001b[0;32m     <a href='file:///~/anaconda3/envs/Warren_Lab/share/jupyter/nbconvert/templates/latex/null.j2?line=31'>32</a>\u001b[0m     ((*- block any_cell scoped -*))\n",
      "File \u001b[1;32m~\\anaconda3\\envs\\Warren_Lab\\share\\jupyter\\nbconvert\\templates\\latex\\base.tex.j2:215\u001b[0m, in \u001b[0;36mblock 'body'\u001b[1;34m()\u001b[0m\n\u001b[0;32m    <a href='file:///~/anaconda3/envs/Warren_Lab/share/jupyter/nbconvert/templates/latex/base.tex.j2?line=212'>213</a>\u001b[0m ((* endblock predoc *))\n\u001b[0;32m    <a href='file:///~/anaconda3/envs/Warren_Lab/share/jupyter/nbconvert/templates/latex/base.tex.j2?line=213'>214</a>\u001b[0m \n\u001b[1;32m--> <a href='file:///~/anaconda3/envs/Warren_Lab/share/jupyter/nbconvert/templates/latex/base.tex.j2?line=214'>215</a>\u001b[0m ((( super() )))\n\u001b[0;32m    <a href='file:///~/anaconda3/envs/Warren_Lab/share/jupyter/nbconvert/templates/latex/base.tex.j2?line=215'>216</a>\u001b[0m \n\u001b[0;32m    <a href='file:///~/anaconda3/envs/Warren_Lab/share/jupyter/nbconvert/templates/latex/base.tex.j2?line=216'>217</a>\u001b[0m % Add a bibliography block to the postdoc\n",
      "File \u001b[1;32m~\\anaconda3\\envs\\Warren_Lab\\share\\jupyter\\nbconvert\\templates\\latex\\null.j2:32\u001b[0m, in \u001b[0;36mblock 'body'\u001b[1;34m()\u001b[0m\n\u001b[0;32m     <a href='file:///~/anaconda3/envs/Warren_Lab/share/jupyter/nbconvert/templates/latex/null.j2?line=29'>30</a>\u001b[0m ((*- block body -*))\n\u001b[0;32m     <a href='file:///~/anaconda3/envs/Warren_Lab/share/jupyter/nbconvert/templates/latex/null.j2?line=30'>31</a>\u001b[0m ((*- for cell in nb.cells -*))\n\u001b[1;32m---> <a href='file:///~/anaconda3/envs/Warren_Lab/share/jupyter/nbconvert/templates/latex/null.j2?line=31'>32</a>\u001b[0m     ((*- block any_cell scoped -*))\n\u001b[0;32m     <a href='file:///~/anaconda3/envs/Warren_Lab/share/jupyter/nbconvert/templates/latex/null.j2?line=32'>33</a>\u001b[0m         ((*- if cell.cell_type == 'code'-*)) \n\u001b[0;32m     <a href='file:///~/anaconda3/envs/Warren_Lab/share/jupyter/nbconvert/templates/latex/null.j2?line=33'>34</a>\u001b[0m             ((*- if resources.global_content_filter.include_code -*))\n",
      "File \u001b[1;32m~\\anaconda3\\envs\\Warren_Lab\\share\\jupyter\\nbconvert\\templates\\latex\\null.j2:85\u001b[0m, in \u001b[0;36mblock 'any_cell'\u001b[1;34m()\u001b[0m\n\u001b[0;32m     <a href='file:///~/anaconda3/envs/Warren_Lab/share/jupyter/nbconvert/templates/latex/null.j2?line=82'>83</a>\u001b[0m ((*- elif cell.cell_type in ['markdown'] -*))\n\u001b[0;32m     <a href='file:///~/anaconda3/envs/Warren_Lab/share/jupyter/nbconvert/templates/latex/null.j2?line=83'>84</a>\u001b[0m     ((*- if resources.global_content_filter.include_markdown and not cell.get(\"transient\",{}).get(\"remove_source\", false) -*))\n\u001b[1;32m---> <a href='file:///~/anaconda3/envs/Warren_Lab/share/jupyter/nbconvert/templates/latex/null.j2?line=84'>85</a>\u001b[0m         ((*- block markdowncell scoped-*)) ((*- endblock markdowncell -*))\n\u001b[0;32m     <a href='file:///~/anaconda3/envs/Warren_Lab/share/jupyter/nbconvert/templates/latex/null.j2?line=85'>86</a>\u001b[0m     ((*- endif -*))\n\u001b[0;32m     <a href='file:///~/anaconda3/envs/Warren_Lab/share/jupyter/nbconvert/templates/latex/null.j2?line=86'>87</a>\u001b[0m ((*- elif cell.cell_type in ['raw'] -*))\n",
      "File \u001b[1;32m~\\anaconda3\\envs\\Warren_Lab\\lib\\site-packages\\otter\\export\\exporters\\templates\\via_latex\\index.tex.j2:32\u001b[0m, in \u001b[0;36mblock 'markdowncell'\u001b[1;34m()\u001b[0m\n\u001b[0;32m     <a href='file:///~/anaconda3/envs/Warren_Lab/lib/site-packages/otter/export/exporters/templates/via_latex/index.tex.j2?line=29'>30</a>\u001b[0m \t\t\\cleartooddpage\n\u001b[0;32m     <a href='file:///~/anaconda3/envs/Warren_Lab/lib/site-packages/otter/export/exporters/templates/via_latex/index.tex.j2?line=30'>31</a>\u001b[0m         ((*- endif -*))\n\u001b[1;32m---> <a href='file:///~/anaconda3/envs/Warren_Lab/lib/site-packages/otter/export/exporters/templates/via_latex/index.tex.j2?line=31'>32</a>\u001b[0m ((( super() )))\n\u001b[0;32m     <a href='file:///~/anaconda3/envs/Warren_Lab/lib/site-packages/otter/export/exporters/templates/via_latex/index.tex.j2?line=32'>33</a>\u001b[0m ((* endblock markdowncell *))\n\u001b[0;32m     <a href='file:///~/anaconda3/envs/Warren_Lab/lib/site-packages/otter/export/exporters/templates/via_latex/index.tex.j2?line=33'>34</a>\u001b[0m \n",
      "File \u001b[1;32m~\\anaconda3\\envs\\Warren_Lab\\share\\jupyter\\nbconvert\\templates\\latex\\document_contents.tex.j2:68\u001b[0m, in \u001b[0;36mblock 'markdowncell'\u001b[1;34m()\u001b[0m\n\u001b[0;32m     <a href='file:///~/anaconda3/envs/Warren_Lab/share/jupyter/nbconvert/templates/latex/document_contents.tex.j2?line=65'>66</a>\u001b[0m % Render markdown\n\u001b[0;32m     <a href='file:///~/anaconda3/envs/Warren_Lab/share/jupyter/nbconvert/templates/latex/document_contents.tex.j2?line=66'>67</a>\u001b[0m ((* block markdowncell scoped *))\n\u001b[1;32m---> <a href='file:///~/anaconda3/envs/Warren_Lab/share/jupyter/nbconvert/templates/latex/document_contents.tex.j2?line=67'>68</a>\u001b[0m     ((( cell.source | citation2latex | strip_files_prefix | convert_pandoc('markdown+tex_math_double_backslash', 'json',extra_args=[]) | resolve_references | convert_pandoc('json','latex'))))\n\u001b[0;32m     <a href='file:///~/anaconda3/envs/Warren_Lab/share/jupyter/nbconvert/templates/latex/document_contents.tex.j2?line=68'>69</a>\u001b[0m ((* endblock markdowncell *))\n\u001b[0;32m     <a href='file:///~/anaconda3/envs/Warren_Lab/share/jupyter/nbconvert/templates/latex/document_contents.tex.j2?line=69'>70</a>\u001b[0m \n",
      "File \u001b[1;32m~\\anaconda3\\envs\\Warren_Lab\\lib\\site-packages\\nbconvert\\filters\\pandoc.py:24\u001b[0m, in \u001b[0;36mconvert_pandoc\u001b[1;34m(source, from_format, to_format, extra_args)\u001b[0m\n\u001b[0;32m      <a href='file:///~/anaconda3/envs/Warren_Lab/lib/site-packages/nbconvert/filters/pandoc.py?line=3'>4</a>\u001b[0m \u001b[39mdef\u001b[39;00m \u001b[39mconvert_pandoc\u001b[39m(source, from_format, to_format, extra_args\u001b[39m=\u001b[39m\u001b[39mNone\u001b[39;00m):\n\u001b[0;32m      <a href='file:///~/anaconda3/envs/Warren_Lab/lib/site-packages/nbconvert/filters/pandoc.py?line=4'>5</a>\u001b[0m     \u001b[39m\"\"\"Convert between any two formats using pandoc.\u001b[39;00m\n\u001b[0;32m      <a href='file:///~/anaconda3/envs/Warren_Lab/lib/site-packages/nbconvert/filters/pandoc.py?line=5'>6</a>\u001b[0m \n\u001b[0;32m      <a href='file:///~/anaconda3/envs/Warren_Lab/lib/site-packages/nbconvert/filters/pandoc.py?line=6'>7</a>\u001b[0m \u001b[39m    This function will raise an error if pandoc is not installed.\u001b[39;00m\n\u001b[1;32m   (...)\u001b[0m\n\u001b[0;32m     <a href='file:///~/anaconda3/envs/Warren_Lab/lib/site-packages/nbconvert/filters/pandoc.py?line=21'>22</a>\u001b[0m \u001b[39m        Output as returned by pandoc.\u001b[39;00m\n\u001b[0;32m     <a href='file:///~/anaconda3/envs/Warren_Lab/lib/site-packages/nbconvert/filters/pandoc.py?line=22'>23</a>\u001b[0m \u001b[39m    \"\"\"\u001b[39;00m\n\u001b[1;32m---> <a href='file:///~/anaconda3/envs/Warren_Lab/lib/site-packages/nbconvert/filters/pandoc.py?line=23'>24</a>\u001b[0m     \u001b[39mreturn\u001b[39;00m pandoc(source, from_format, to_format, extra_args\u001b[39m=\u001b[39;49mextra_args)\n",
      "File \u001b[1;32m~\\anaconda3\\envs\\Warren_Lab\\lib\\site-packages\\nbconvert\\utils\\pandoc.py:52\u001b[0m, in \u001b[0;36mpandoc\u001b[1;34m(source, fmt, to, extra_args, encoding)\u001b[0m\n\u001b[0;32m     <a href='file:///~/anaconda3/envs/Warren_Lab/lib/site-packages/nbconvert/utils/pandoc.py?line=48'>49</a>\u001b[0m     cmd\u001b[39m.\u001b[39mextend(extra_args)\n\u001b[0;32m     <a href='file:///~/anaconda3/envs/Warren_Lab/lib/site-packages/nbconvert/utils/pandoc.py?line=50'>51</a>\u001b[0m \u001b[39m# this will raise an exception that will pop us out of here\u001b[39;00m\n\u001b[1;32m---> <a href='file:///~/anaconda3/envs/Warren_Lab/lib/site-packages/nbconvert/utils/pandoc.py?line=51'>52</a>\u001b[0m check_pandoc_version()\n\u001b[0;32m     <a href='file:///~/anaconda3/envs/Warren_Lab/lib/site-packages/nbconvert/utils/pandoc.py?line=53'>54</a>\u001b[0m \u001b[39m# we can safely continue\u001b[39;00m\n\u001b[0;32m     <a href='file:///~/anaconda3/envs/Warren_Lab/lib/site-packages/nbconvert/utils/pandoc.py?line=54'>55</a>\u001b[0m p \u001b[39m=\u001b[39m subprocess\u001b[39m.\u001b[39mPopen(cmd, stdin\u001b[39m=\u001b[39msubprocess\u001b[39m.\u001b[39mPIPE, stdout\u001b[39m=\u001b[39msubprocess\u001b[39m.\u001b[39mPIPE)\n",
      "File \u001b[1;32m~\\anaconda3\\envs\\Warren_Lab\\lib\\site-packages\\nbconvert\\utils\\pandoc.py:100\u001b[0m, in \u001b[0;36mcheck_pandoc_version\u001b[1;34m()\u001b[0m\n\u001b[0;32m     <a href='file:///~/anaconda3/envs/Warren_Lab/lib/site-packages/nbconvert/utils/pandoc.py?line=96'>97</a>\u001b[0m \u001b[39mif\u001b[39;00m check_pandoc_version\u001b[39m.\u001b[39m_cached \u001b[39mis\u001b[39;00m \u001b[39mnot\u001b[39;00m \u001b[39mNone\u001b[39;00m:\n\u001b[0;32m     <a href='file:///~/anaconda3/envs/Warren_Lab/lib/site-packages/nbconvert/utils/pandoc.py?line=97'>98</a>\u001b[0m     \u001b[39mreturn\u001b[39;00m check_pandoc_version\u001b[39m.\u001b[39m_cached\n\u001b[1;32m--> <a href='file:///~/anaconda3/envs/Warren_Lab/lib/site-packages/nbconvert/utils/pandoc.py?line=99'>100</a>\u001b[0m v \u001b[39m=\u001b[39m get_pandoc_version()\n\u001b[0;32m    <a href='file:///~/anaconda3/envs/Warren_Lab/lib/site-packages/nbconvert/utils/pandoc.py?line=100'>101</a>\u001b[0m \u001b[39mif\u001b[39;00m v \u001b[39mis\u001b[39;00m \u001b[39mNone\u001b[39;00m:\n\u001b[0;32m    <a href='file:///~/anaconda3/envs/Warren_Lab/lib/site-packages/nbconvert/utils/pandoc.py?line=101'>102</a>\u001b[0m     warnings\u001b[39m.\u001b[39mwarn(\u001b[39m\"\u001b[39m\u001b[39mSorry, we cannot determine the version of pandoc.\u001b[39m\u001b[39m\\n\u001b[39;00m\u001b[39m\"\u001b[39m\n\u001b[0;32m    <a href='file:///~/anaconda3/envs/Warren_Lab/lib/site-packages/nbconvert/utils/pandoc.py?line=102'>103</a>\u001b[0m                   \u001b[39m\"\u001b[39m\u001b[39mPlease consider reporting this issue and include the\u001b[39m\u001b[39m\"\u001b[39m\n\u001b[0;32m    <a href='file:///~/anaconda3/envs/Warren_Lab/lib/site-packages/nbconvert/utils/pandoc.py?line=103'>104</a>\u001b[0m                   \u001b[39m\"\u001b[39m\u001b[39moutput of pandoc --version.\u001b[39m\u001b[39m\\n\u001b[39;00m\u001b[39mContinuing...\u001b[39m\u001b[39m\"\u001b[39m,\n\u001b[0;32m    <a href='file:///~/anaconda3/envs/Warren_Lab/lib/site-packages/nbconvert/utils/pandoc.py?line=104'>105</a>\u001b[0m                   \u001b[39mRuntimeWarning\u001b[39;00m, stacklevel\u001b[39m=\u001b[39m\u001b[39m2\u001b[39m)\n",
      "File \u001b[1;32m~\\anaconda3\\envs\\Warren_Lab\\lib\\site-packages\\nbconvert\\utils\\pandoc.py:77\u001b[0m, in \u001b[0;36mget_pandoc_version\u001b[1;34m()\u001b[0m\n\u001b[0;32m     <a href='file:///~/anaconda3/envs/Warren_Lab/lib/site-packages/nbconvert/utils/pandoc.py?line=74'>75</a>\u001b[0m \u001b[39mif\u001b[39;00m __version \u001b[39mis\u001b[39;00m \u001b[39mNone\u001b[39;00m:\n\u001b[0;32m     <a href='file:///~/anaconda3/envs/Warren_Lab/lib/site-packages/nbconvert/utils/pandoc.py?line=75'>76</a>\u001b[0m     \u001b[39mif\u001b[39;00m \u001b[39mnot\u001b[39;00m shutil\u001b[39m.\u001b[39mwhich(\u001b[39m'\u001b[39m\u001b[39mpandoc\u001b[39m\u001b[39m'\u001b[39m):\n\u001b[1;32m---> <a href='file:///~/anaconda3/envs/Warren_Lab/lib/site-packages/nbconvert/utils/pandoc.py?line=76'>77</a>\u001b[0m         \u001b[39mraise\u001b[39;00m PandocMissing()\n\u001b[0;32m     <a href='file:///~/anaconda3/envs/Warren_Lab/lib/site-packages/nbconvert/utils/pandoc.py?line=78'>79</a>\u001b[0m     out \u001b[39m=\u001b[39m subprocess\u001b[39m.\u001b[39mcheck_output([\u001b[39m'\u001b[39m\u001b[39mpandoc\u001b[39m\u001b[39m'\u001b[39m, \u001b[39m'\u001b[39m\u001b[39m-v\u001b[39m\u001b[39m'\u001b[39m])\n\u001b[0;32m     <a href='file:///~/anaconda3/envs/Warren_Lab/lib/site-packages/nbconvert/utils/pandoc.py?line=79'>80</a>\u001b[0m     out_lines \u001b[39m=\u001b[39m out\u001b[39m.\u001b[39msplitlines()\n",
      "\u001b[1;31mPandocMissing\u001b[0m: Pandoc wasn't found.\nPlease check that pandoc is installed:\nhttps://pandoc.org/installing.html"
     ]
    }
   ],
   "source": [
    "# Save your notebook first, then run this cell to export your submission.\n",
    "grader.export()"
   ]
  },
  {
   "cell_type": "markdown",
   "metadata": {},
   "source": [
    " "
   ]
  }
 ],
 "metadata": {
  "kernelspec": {
   "display_name": "Python 3",
   "language": "python",
   "name": "python3"
  },
  "language_info": {
   "codemirror_mode": {
    "name": "ipython",
    "version": 3
   },
   "file_extension": ".py",
   "mimetype": "text/x-python",
   "name": "python",
   "nbconvert_exporter": "python",
   "pygments_lexer": "ipython3",
   "version": "3.9.7"
  },
  "otter": {
   "tests": {
    "q2c": {
     "name": "q2c",
     "points": 6,
     "suites": [
      {
       "cases": [
        {
         "code": ">>> assert np.isclose(co2_2050, 452, rtol = 10)\n",
         "hidden": false,
         "locked": false
        },
        {
         "code": ">>> assert np.isclose(co2_2100, 531, rtol = 10)\n",
         "hidden": false,
         "locked": false
        }
       ],
       "scored": true,
       "setup": "",
       "teardown": "",
       "type": "doctest"
      }
     ]
    }
   }
  }
 },
 "nbformat": 4,
 "nbformat_minor": 4
}
